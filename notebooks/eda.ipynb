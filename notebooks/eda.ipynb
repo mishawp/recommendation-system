{
 "cells": [
  {
   "cell_type": "markdown",
   "metadata": {},
   "source": [
    "<div class=\"viewer--28ZF\"><h1><font color=\"#ff5533\">&gt;</font> Описание данных</h1><hr><h5>Таблица user_data</h5><p class=\"p--1qUA\">Cодержит информацию о всех пользователях соц.сети</p><table class=\"table table-bordered\"><tbody><tr><td>Field name</td><td>Overview</td></tr><tr><td><span style=\"font-weight:600\" data-token-index=\"0\" class=\"notion-enable-hover\" data-reactroot=\"\">age</span></td><td>Возраст пользователя (в профиле)</td></tr><tr><td><span style=\"font-weight:600\" data-token-index=\"0\" class=\"notion-enable-hover\" data-reactroot=\"\">city</span></td><td>Город пользователя (в профиле)</td></tr><tr><td><span style=\"font-weight:600\" data-token-index=\"0\" class=\"notion-enable-hover\" data-reactroot=\"\">country</span></td><td>Страна пользователя (в профиле)</td></tr><tr><td><span style=\"font-weight:600\" data-token-index=\"0\" class=\"notion-enable-hover\" data-reactroot=\"\">exp_group</span></td><td>Экспериментальная группа: некоторая зашифрованная категория</td></tr><tr><td><span style=\"font-weight:600\" data-token-index=\"0\" class=\"notion-enable-hover\" data-reactroot=\"\">gender</span></td><td>Пол пользователя</td></tr><tr><td><span style=\"font-weight:600\" data-token-index=\"0\" class=\"notion-enable-hover\" data-reactroot=\"\">user_id</span></td><td>Уникальный идентификатор пользователя</td></tr><tr><td><span style=\"font-weight:600\" data-token-index=\"0\" class=\"notion-enable-hover\" data-reactroot=\"\">os</span></td><td>Операционная система устройства, с которого происходит пользование соц.сетью</td></tr><tr><td><b>source</b></td><td>Пришел ли пользователь в приложение с органического трафика или с рекламы</td></tr></tbody></table><hr><h5>Таблица post_text_df</h5><p class=\"p--1qUA\">Содержит информацию о постах и уникальный ID каждой единицы с соответствующим ей текстом и топиком</p><table class=\"table table-bordered\"><tbody><tr><td><b>Field name</b></td><td><b>Overview</b></td></tr><tr><td><span style=\"font-weight:600\" data-token-index=\"0\" class=\"notion-enable-hover\" data-reactroot=\"\">id</span></td><td>Уникальный идентификатор поста</td></tr><tr><td><span style=\"font-weight:600\" data-token-index=\"0\" class=\"notion-enable-hover\" data-reactroot=\"\">text</span></td><td>Текстовое содержание поста</td></tr><tr><td><span style=\"font-weight:600\" data-token-index=\"0\" class=\"notion-enable-hover\" data-reactroot=\"\">topic</span></td><td>Основная тематика</td></tr></tbody></table><hr><h5>Таблица feed_data</h5><p class=\"p--1qUA\">Содержит историю о просмотренных постах для каждого юзера в изучаемый период.</p><p class=\"p--1qUA\"><b>Внимание: Таблица ООООЧЕНЬ большая. Рекомендуется не загружать ее полностью, иначе все упадет.</b></p><table class=\"table table-bordered\"><tbody><tr><td><b>Field name</b></td><td><b>Overview</b></td></tr><tr><td><span style=\"font-weight:600\" data-token-index=\"0\" class=\"notion-enable-hover\" data-reactroot=\"\">timestamp</span></td><td>Время, когда был произведен просмотр</td></tr><tr><td><span style=\"font-weight:600\" data-token-index=\"0\" class=\"notion-enable-hover\" data-reactroot=\"\">user_id</span></td><td>id пользователя, который совершил просмотр</td></tr><tr><td><span style=\"font-weight:600\" data-token-index=\"0\" class=\"notion-enable-hover\" data-reactroot=\"\">post_id</span></td><td>id просмотренного поста</td></tr><tr><td><span style=\"font-weight:600\" data-token-index=\"0\" class=\"notion-enable-hover\" data-reactroot=\"\">action</span></td><td>Тип действия: просмотр или лайк</td></tr><tr><td><span style=\"font-weight:600\" data-token-index=\"0\" class=\"notion-enable-hover\" data-reactroot=\"\">target</span></td><td>1 у просмотров, если почти сразу после просмотра был совершен лайк, иначе 0. У действий like пропущенное значение.</td></tr></tbody></table><hr><p class=\"p--1qUA\"><div class=\"copy-button-wrapper--1rIz\"></div></div></div>"
   ]
  },
  {
   "cell_type": "markdown",
   "metadata": {},
   "source": [
    "### Таргетная переменная\n",
    "Таргетной переменной является колонка `target` из таблицы `feed_action`. Суть разницы между `target` и `action` в том, что `user` может посмотреть `post`, но поставить лайк позже, чем посмотрел (такое поведение учитывает `action`, а `target` указывает на \"посмотрел и тут же лайкнул\")\n",
    "***"
   ]
  },
  {
   "cell_type": "code",
   "execution_count": 1,
   "metadata": {},
   "outputs": [
    {
     "name": "stdout",
     "output_type": "stream",
     "text": [
      "c:\\Users\\MishaV\\Desktop\\karpov\\ML\\L22\n"
     ]
    }
   ],
   "source": [
    "import os\n",
    "\n",
    "os.chdir(\"../\")  # Укажите путь к корню проекта\n",
    "print(os.getcwd())  # Проверьте, что путь изменился"
   ]
  },
  {
   "cell_type": "code",
   "execution_count": 2,
   "metadata": {},
   "outputs": [],
   "source": [
    "import numpy as np\n",
    "import pandas as pd\n",
    "import matplotlib.pyplot as plt\n",
    "import seaborn as sns\n",
    "from sqlalchemy import create_engine"
   ]
  },
  {
   "cell_type": "code",
   "execution_count": 3,
   "metadata": {},
   "outputs": [],
   "source": [
    "engine = create_engine(\n",
    "    \"postgresql://robot-startml-ro:pheiph0hahj1Vaif@\"\n",
    "    \"postgres.lab.karpov.courses:6432/startml\"\n",
    ")"
   ]
  },
  {
   "cell_type": "code",
   "execution_count": 4,
   "metadata": {},
   "outputs": [],
   "source": [
    "# Открываем соединение с использованием stream_results\n",
    "with engine.connect().execution_options(stream_results=True) as connection:\n",
    "    # Открываем файл CSV для записи\n",
    "    with open(\"./data/raw/feed_data.csv\", \"w\", encoding=\"utf-8\", newline=\"\") as csvfile:\n",
    "        # Читаем данные из базы данных по частям\n",
    "        for chunk in pd.read_sql(\n",
    "            \"SELECT * FROM feed_data\", con=connection, chunksize=200_000\n",
    "        ):\n",
    "            # Записываем данные в CSV файл\n",
    "            chunk.to_csv(\n",
    "                csvfile, index=False, header=csvfile.tell() == 0\n",
    "            )  # Добавляем заголовок только для первой части"
   ]
  },
  {
   "cell_type": "markdown",
   "metadata": {},
   "source": [
    "***\n",
    "## Обработка пользователей"
   ]
  },
  {
   "cell_type": "code",
   "execution_count": 3,
   "metadata": {},
   "outputs": [
    {
     "name": "stdout",
     "output_type": "stream",
     "text": [
      "(163205, 7)\n"
     ]
    },
    {
     "data": {
      "text/html": [
       "<div>\n",
       "<style scoped>\n",
       "    .dataframe tbody tr th:only-of-type {\n",
       "        vertical-align: middle;\n",
       "    }\n",
       "\n",
       "    .dataframe tbody tr th {\n",
       "        vertical-align: top;\n",
       "    }\n",
       "\n",
       "    .dataframe thead th {\n",
       "        text-align: right;\n",
       "    }\n",
       "</style>\n",
       "<table border=\"1\" class=\"dataframe\">\n",
       "  <thead>\n",
       "    <tr style=\"text-align: right;\">\n",
       "      <th></th>\n",
       "      <th>gender</th>\n",
       "      <th>age</th>\n",
       "      <th>country</th>\n",
       "      <th>city</th>\n",
       "      <th>exp_group</th>\n",
       "      <th>os</th>\n",
       "      <th>source</th>\n",
       "    </tr>\n",
       "    <tr>\n",
       "      <th>user_id</th>\n",
       "      <th></th>\n",
       "      <th></th>\n",
       "      <th></th>\n",
       "      <th></th>\n",
       "      <th></th>\n",
       "      <th></th>\n",
       "      <th></th>\n",
       "    </tr>\n",
       "  </thead>\n",
       "  <tbody>\n",
       "    <tr>\n",
       "      <th>200</th>\n",
       "      <td>1</td>\n",
       "      <td>34</td>\n",
       "      <td>Russia</td>\n",
       "      <td>Degtyarsk</td>\n",
       "      <td>3</td>\n",
       "      <td>Android</td>\n",
       "      <td>ads</td>\n",
       "    </tr>\n",
       "    <tr>\n",
       "      <th>201</th>\n",
       "      <td>0</td>\n",
       "      <td>37</td>\n",
       "      <td>Russia</td>\n",
       "      <td>Abakan</td>\n",
       "      <td>0</td>\n",
       "      <td>Android</td>\n",
       "      <td>ads</td>\n",
       "    </tr>\n",
       "    <tr>\n",
       "      <th>202</th>\n",
       "      <td>1</td>\n",
       "      <td>17</td>\n",
       "      <td>Russia</td>\n",
       "      <td>Smolensk</td>\n",
       "      <td>4</td>\n",
       "      <td>Android</td>\n",
       "      <td>ads</td>\n",
       "    </tr>\n",
       "    <tr>\n",
       "      <th>203</th>\n",
       "      <td>0</td>\n",
       "      <td>18</td>\n",
       "      <td>Russia</td>\n",
       "      <td>Moscow</td>\n",
       "      <td>1</td>\n",
       "      <td>iOS</td>\n",
       "      <td>ads</td>\n",
       "    </tr>\n",
       "    <tr>\n",
       "      <th>204</th>\n",
       "      <td>0</td>\n",
       "      <td>36</td>\n",
       "      <td>Russia</td>\n",
       "      <td>Anzhero-Sudzhensk</td>\n",
       "      <td>3</td>\n",
       "      <td>Android</td>\n",
       "      <td>ads</td>\n",
       "    </tr>\n",
       "  </tbody>\n",
       "</table>\n",
       "</div>"
      ],
      "text/plain": [
       "         gender  age country               city  exp_group       os source\n",
       "user_id                                                                   \n",
       "200           1   34  Russia          Degtyarsk          3  Android    ads\n",
       "201           0   37  Russia             Abakan          0  Android    ads\n",
       "202           1   17  Russia           Smolensk          4  Android    ads\n",
       "203           0   18  Russia             Moscow          1      iOS    ads\n",
       "204           0   36  Russia  Anzhero-Sudzhensk          3  Android    ads"
      ]
     },
     "execution_count": 3,
     "metadata": {},
     "output_type": "execute_result"
    }
   ],
   "source": [
    "# users = pd.read_sql(\"SELECT * FROM user_data\", con=engine, index_col=\"user_id\")\n",
    "users = pd.read_csv(\"./data/raw/users.csv\", index_col=\"user_id\")\n",
    "print(users.shape)\n",
    "users.head()"
   ]
  },
  {
   "cell_type": "code",
   "execution_count": null,
   "metadata": {},
   "outputs": [],
   "source": [
    "users.nunique()"
   ]
  },
  {
   "cell_type": "code",
   "execution_count": null,
   "metadata": {},
   "outputs": [],
   "source": [
    "hist_cols = users.columns.drop(\"city\")\n",
    "fig, axes = plt.subplots(\n",
    "    nrows=len(hist_cols), figsize=(14, 10), gridspec_kw={\"hspace\": 0.7, \"wspace\": 0.7}\n",
    ")\n",
    "\n",
    "# Проходимся по столбцам и осям\n",
    "for col, ax in zip(hist_cols, axes):\n",
    "    sns.histplot(data=users, x=col, ax=ax)"
   ]
  },
  {
   "cell_type": "markdown",
   "metadata": {},
   "source": [
    "***\n",
    "## Обработка постов"
   ]
  },
  {
   "cell_type": "markdown",
   "metadata": {},
   "source": [
    "Новые фичи:\n",
    "1. Длина текста (количество символов в тексте)\n",
    "2. Берем первые три предложения каждого текста, считаем количество присутствий каждого слова во всех текстах (из 3-ех предложений), отбираем вручную 10 популярных слов"
   ]
  },
  {
   "cell_type": "code",
   "execution_count": null,
   "metadata": {},
   "outputs": [],
   "source": [
    "# posts = pd.read_sql(\"SELECT * FROM post_text_df\", con=engine, index_col=\"post_id\")\n",
    "posts = pd.read_csv(\"./data/raw/posts.csv\", index_col=\"post_id\")\n",
    "print(posts.shape)\n",
    "posts.head()"
   ]
  },
  {
   "cell_type": "code",
   "execution_count": null,
   "metadata": {},
   "outputs": [],
   "source": [
    "posts.nunique()"
   ]
  },
  {
   "cell_type": "code",
   "execution_count": 5,
   "metadata": {},
   "outputs": [],
   "source": [
    "posts[\"length\"] = posts[\"text\"].str.len()\n",
    "posts = posts.drop(\"text\", axis=1)"
   ]
  },
  {
   "cell_type": "markdown",
   "metadata": {},
   "source": [
    "***\n",
    "## Обработка активностей\n",
    "\n"
   ]
  },
  {
   "cell_type": "code",
   "execution_count": null,
   "metadata": {},
   "outputs": [],
   "source": [
    "pd.read_sql(\"SELECT * FROM feed_data LIMIT 5\", con=engine)"
   ]
  },
  {
   "cell_type": "markdown",
   "metadata": {},
   "source": [
    "### Некоторые расчетные характеристики\n",
    "\n",
    "- Временной промежуток выборки (самая ранняя активность, самая поздняя активность):\n",
    "<div style=\"text-align: center\">(2021.10.01 06:01:40; 2021.12.29 23:51:06)</div>\n",
    "\n",
    "- Количество записей:\n",
    "<div style=\"text-align: center\">76 892 800</div>\n",
    "\n",
    "- Среднее количество активностей пользователя в день: \n",
    "  - как вариант, можно посчитать для субботы и воскресения отдельно. \n",
    "<div style=\"text-align: center\">user_avg_actions_per_day</div>\n",
    "\n",
    "- Частота активностей пользователя относительно всех записей:\n",
    "<div style=\"text-align: center\">user_target_ratio</div>\n",
    "\n",
    "- Частота лайков пользователя относительно всех просмотров пользователя:\n",
    "<div style=\"text-align: center\">user_like_ratio</div>"
   ]
  },
  {
   "cell_type": "code",
   "execution_count": null,
   "metadata": {},
   "outputs": [],
   "source": [
    "# pd.read_sql(\"SELECT max(timestamp), min(timestamp) FROM feed_data\", con=engine)"
   ]
  },
  {
   "cell_type": "code",
   "execution_count": null,
   "metadata": {},
   "outputs": [],
   "source": [
    "# feed_data_count = pd.read_sql(\"SELECT count(*) FROM feed_data\", con=engine).iloc[0, 0]\n",
    "# feed_data_count"
   ]
  },
  {
   "cell_type": "markdown",
   "metadata": {},
   "source": [
    "Среднее количество активностей пользователя в день"
   ]
  },
  {
   "cell_type": "code",
   "execution_count": null,
   "metadata": {},
   "outputs": [],
   "source": [
    "# user_avg_actions_per_day = pd.read_sql(\"\"\"\n",
    "#     WITH daily_actions AS (\n",
    "#         SELECT\n",
    "#             user_id,\n",
    "#             DATE(timestamp) AS action_date,\n",
    "#             COUNT(*) AS actions_per_day\n",
    "#         FROM\n",
    "#             feed_data\n",
    "#         GROUP BY\n",
    "#             user_id,\n",
    "#             DATE(timestamp)\n",
    "#         )\n",
    "#     SELECT\n",
    "#         user_id,\n",
    "#         AVG(actions_per_day) AS avg_actions_per_day\n",
    "#     FROM\n",
    "#         daily_actions\n",
    "#     GROUP BY\n",
    "#         user_id;\n",
    "#     \"\"\", con=engine, index_col=\"user_id\")\n",
    "# user_avg_actions_per_day.to_csv(r\".\\data\\user_avg_actions_per_day.csv\")\n",
    "user_avg_actions_per_day = pd.read_csv(\n",
    "    \"../data/extracted/user_avg_actions_per_day.csv\", index_col=\"user_id\"\n",
    ")\n",
    "user_avg_actions_per_day.head()"
   ]
  },
  {
   "cell_type": "code",
   "execution_count": null,
   "metadata": {},
   "outputs": [],
   "source": [
    "plt.figure(figsize=(14, 10))\n",
    "sns.boxplot(y=user_avg_actions_per_day[\"avg_actions_per_day\"], orient=\"y\")"
   ]
  },
  {
   "cell_type": "markdown",
   "metadata": {},
   "source": [
    "<span style=\"color:red\">Можно будет попробовать убрать выбросы</span>"
   ]
  },
  {
   "cell_type": "markdown",
   "metadata": {},
   "source": [
    "Частота активностей пользователя относительно всех записей"
   ]
  },
  {
   "cell_type": "code",
   "execution_count": null,
   "metadata": {},
   "outputs": [],
   "source": [
    "# user_target_ratio = pd.read_sql(\"\"\"\n",
    "#     SELECT\n",
    "#         user_id,\n",
    "#         COUNT(*)::float / (SELECT count(*) FROM feed_data) AS target_ratio\n",
    "#     FROM\n",
    "#         feed_data\n",
    "#     GROUP BY\n",
    "#         user_id;\n",
    "#     \"\"\", con=engine, index_col=\"user_id\")\n",
    "# user_target_ratio.to_csv(r\"..\\data\\extracted\\user_target_ratio.csv\")\n",
    "user_target_ratio = pd.read_csv(\n",
    "    r\"..\\data\\extracted\\user_target_ratio.csv\", index_col=\"user_id\"\n",
    ")\n",
    "user_target_ratio.head()"
   ]
  },
  {
   "cell_type": "markdown",
   "metadata": {},
   "source": [
    "Частота лайков пользователя относительно всех просмотров пользователя"
   ]
  },
  {
   "cell_type": "code",
   "execution_count": null,
   "metadata": {},
   "outputs": [],
   "source": [
    "# user_like_ratio = pd.read_sql(\"\"\"\n",
    "#     SELECT\n",
    "#         user_id,\n",
    "#         COUNT(CASE WHEN target = 1 THEN 1 END)::float / COUNT(*) AS target_ratio\n",
    "#     FROM\n",
    "#         feed_data\n",
    "#     GROUP BY\n",
    "#         user_id;\n",
    "#     \"\"\", con=engine, index_col=\"user_id\")\n",
    "# user_like_ratio.to_csv(r\"..\\data\\extracted\\user_like_ratio.csv\")\n",
    "user_like_ratio = pd.read_csv(\n",
    "    r\"..\\data\\extracted\\user_like_ratio.csv\", index_col=\"user_id\"\n",
    ")\n",
    "user_like_ratio.head()"
   ]
  },
  {
   "cell_type": "code",
   "execution_count": null,
   "metadata": {},
   "outputs": [],
   "source": [
    "plt.figure(figsize=(14, 12))\n",
    "sns.boxplot(y=user_target_ratio[\"target_ratio\"], orient=\"y\")"
   ]
  },
  {
   "cell_type": "code",
   "execution_count": null,
   "metadata": {},
   "outputs": [],
   "source": [
    "users.isna().sum().sum()"
   ]
  },
  {
   "cell_type": "code",
   "execution_count": null,
   "metadata": {},
   "outputs": [],
   "source": [
    "posts.isna().sum().sum()"
   ]
  },
  {
   "cell_type": "markdown",
   "metadata": {},
   "source": [
    "***\n",
    "## Отбор данных для обучения и тестирования\n",
    "В `feed_data` ~76 млн записей. Всех их не использовать в обучении и тестировании. Возьмем только 4 млн."
   ]
  },
  {
   "cell_type": "code",
   "execution_count": null,
   "metadata": {},
   "outputs": [],
   "source": [
    "# with engine.connect() as connection:\n",
    "#     connection.execute(\"SELECT setseed(0.42);\")\n",
    "#     selection = pd.read_sql(\"\"\"\n",
    "#         SELECT * FROM feed_data WHERE 4000000.0 / (SELECT count(*) FROM feed_data) > random();\n",
    "#         \"\"\", con=engine)\n",
    "# selection.to_csv(r\"..\\data\\raw\\feed_data_selection.csv\")\n",
    "selection = pd.read_csv(r\"./data/raw/selection.csv\", index_col=\"user_id\")\n",
    "print(selection.shape)\n",
    "selection.head()"
   ]
  },
  {
   "cell_type": "markdown",
   "metadata": {},
   "source": [
    "Проверим, все ли пользователи вошли в выборку."
   ]
  },
  {
   "cell_type": "code",
   "execution_count": 21,
   "metadata": {},
   "outputs": [],
   "source": [
    "data = pd.merge(selection, users, left_on=\"user_id\", right_index=True)\n",
    "data = pd.merge(data, posts, left_on=\"post_id\", right_index=True)\n",
    "data = pd.merge(data, user_like_ratio, left_on=\"user_id\", right_index=True)\n",
    "data = pd.merge(data, user_target_ratio, left_on=\"user_id\", right_index=True)\n",
    "# data = pd.merge(selection, user_avg_actions_per_day, left_on=\"user_id\", right_index=True)"
   ]
  },
  {
   "cell_type": "code",
   "execution_count": null,
   "metadata": {},
   "outputs": [],
   "source": [
    "data"
   ]
  }
 ],
 "metadata": {
  "kernelspec": {
   "display_name": ".venv",
   "language": "python",
   "name": "python3"
  },
  "language_info": {
   "codemirror_mode": {
    "name": "ipython",
    "version": 3
   },
   "file_extension": ".py",
   "mimetype": "text/x-python",
   "name": "python",
   "nbconvert_exporter": "python",
   "pygments_lexer": "ipython3",
   "version": "3.8.5"
  }
 },
 "nbformat": 4,
 "nbformat_minor": 2
}
